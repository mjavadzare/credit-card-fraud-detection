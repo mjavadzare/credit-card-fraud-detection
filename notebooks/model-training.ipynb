{
 "cells": [
  {
   "cell_type": "code",
   "execution_count": 10,
   "id": "f9c5053c",
   "metadata": {},
   "outputs": [],
   "source": [
    "import numpy as np\n",
    "import pandas as pd\n",
    "import matplotlib.pyplot as plt"
   ]
  },
  {
   "cell_type": "code",
   "execution_count": 11,
   "id": "04d643fd",
   "metadata": {},
   "outputs": [],
   "source": [
    "df = pd.read_csv('../data/raw/creditcard.csv')"
   ]
  },
  {
   "cell_type": "markdown",
   "id": "8b460caa",
   "metadata": {},
   "source": [
    "### All Transformation"
   ]
  },
  {
   "cell_type": "code",
   "execution_count": 12,
   "id": "c61049be",
   "metadata": {},
   "outputs": [],
   "source": [
    "from sklearn.preprocessing import (\n",
    "    StandardScaler,\n",
    "    MinMaxScaler,\n",
    "    FunctionTransformer,\n",
    "    QuantileTransformer\n",
    ")\n",
    "from sklearn.pipeline import Pipeline, make_pipeline\n",
    "from sklearn.compose import ColumnTransformer\n",
    "from sklearn.metrics.pairwise import rbf_kernel\n",
    "from sklearn.impute import SimpleImputer\n",
    "from sklearn.preprocessing import QuantileTransformer\n",
    "from sklearn.decomposition import PCA\n",
    "\n",
    "\n",
    "default_pipeline = make_pipeline(\n",
    "    SimpleImputer(strategy='median'),\n",
    "    StandardScaler(),\n",
    ")\n",
    "\n",
    "Time_rbf_transformer = FunctionTransformer(\n",
    "    rbf_kernel,\n",
    "    feature_names_out='one-to-one',\n",
    "    kw_args={\n",
    "        'Y':[[79000]],\n",
    "        'gamma':1e-8\n",
    "    }\n",
    ")\n",
    "\n",
    "q_heavy_tail_pipeline = make_pipeline(\n",
    "    QuantileTransformer(output_distribution='normal'),\n",
    "    StandardScaler()\n",
    ")\n",
    "\n",
    "# V2, V5, V7 with Amount\n",
    "vn_amount_pipeline = make_pipeline(\n",
    "    StandardScaler(),\n",
    "    PCA(n_components=2)\n",
    ")\n",
    "\n",
    "\n",
    "\n",
    "all_transformation = ColumnTransformer(\n",
    "    transformers=[\n",
    "        ('Time_rbf', Time_rbf_transformer, ['Time']),\n",
    "        ('heavy_tail', q_heavy_tail_pipeline, ['V1', 'V2', 'V3', 'V4', 'V5',\n",
    "                                               'V6','V7', 'V8', 'V9', 'V10',\n",
    "                                               'V11', 'V12', 'V14', 'V15',\n",
    "                                               'V16', 'V17', 'V18', 'V19', 'V20',\n",
    "                                               'V21', 'V22', 'V23', 'V24', 'V25',\n",
    "                                               'V27', 'V28', 'Amount']),\n",
    "        ('vn_amount', vn_amount_pipeline, ['V2', 'V5', 'V7'])\n",
    "        \n",
    "    ],\n",
    "    remainder=default_pipeline,\n",
    ")"
   ]
  },
  {
   "cell_type": "code",
   "execution_count": 16,
   "id": "64ba0413",
   "metadata": {},
   "outputs": [],
   "source": [
    "from sklearn.model_selection import train_test_split"
   ]
  },
  {
   "cell_type": "code",
   "execution_count": 17,
   "id": "75340eab",
   "metadata": {},
   "outputs": [],
   "source": [
    "train, test = train_test_split(df,\n",
    "                               test_size=0.2,\n",
    "                               stratify=df['Class'],\n",
    "                               random_state=10\n",
    "                               )"
   ]
  },
  {
   "cell_type": "code",
   "execution_count": 18,
   "id": "2b6d7908",
   "metadata": {},
   "outputs": [],
   "source": [
    "X_train, X_test = train.drop('Class', axis=1), test.drop('Class', axis=1)\n",
    "y_train, y_test = train['Class'], test['Class']"
   ]
  },
  {
   "cell_type": "code",
   "execution_count": null,
   "id": "3adfe3d4",
   "metadata": {},
   "outputs": [],
   "source": []
  }
 ],
 "metadata": {
  "kernelspec": {
   "display_name": "Python 3 (ipykernel)",
   "language": "python",
   "name": "python3"
  },
  "language_info": {
   "codemirror_mode": {
    "name": "ipython",
    "version": 3
   },
   "file_extension": ".py",
   "mimetype": "text/x-python",
   "name": "python",
   "nbconvert_exporter": "python",
   "pygments_lexer": "ipython3",
   "version": "3.11.5"
  }
 },
 "nbformat": 4,
 "nbformat_minor": 5
}
